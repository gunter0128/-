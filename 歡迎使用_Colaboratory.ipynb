{
  "cells": [
    {
      "cell_type": "markdown",
      "metadata": {
        "id": "view-in-github",
        "colab_type": "text"
      },
      "source": [
        "<a href=\"https://colab.research.google.com/github/gunter0128/self-learning/blob/main/%E6%AD%A1%E8%BF%8E%E4%BD%BF%E7%94%A8_Colaboratory.ipynb\" target=\"_parent\"><img src=\"https://colab.research.google.com/assets/colab-badge.svg\" alt=\"Open In Colab\"/></a>"
      ]
    },
    {
      "cell_type": "code",
      "source": [
        "data = input(\"請輸入身高（公尺）和體重（公斤）並以空格分隔：\")\n",
        "\n",
        "height, weight = map(float, data.split())\n",
        "\n",
        "bmi = weight / (height ** 2)\n",
        "\n",
        "print(f\"BMI值為：{bmi:.2f}\")\n"
      ],
      "metadata": {
        "colab": {
          "base_uri": "https://localhost:8080/"
        },
        "id": "QFmEj560PlL-",
        "outputId": "78d3da10-a44d-440d-c91b-36a38462353e"
      },
      "execution_count": 2,
      "outputs": [
        {
          "output_type": "stream",
          "name": "stdout",
          "text": [
            "請輸入您的身高（公尺）和體重（公斤），以空格分隔：1.60 55\n",
            "您的BMI值為：21.48\n"
          ]
        }
      ]
    },
    {
      "cell_type": "code",
      "source": [
        "operator = input(\"請輸入操作符號 (+, -, *, /): \")\n",
        "num1 = float(input(\"請輸入第一個數字: \"))\n",
        "num2 = float(input(\"請輸入第二個數字: \"))\n",
        "\n",
        "if operator == '+':\n",
        "    result = num1 + num2\n",
        "    print(f\"答案是：{result:.2f}\")\n",
        "elif operator == '-':\n",
        "    result = num1 - num2\n",
        "    print(f\"答案是：{result:.2f}\")\n",
        "elif operator == '*':\n",
        "    result = num1 * num2\n",
        "    print(f\"答案是：{result:.2f}\")\n",
        "elif operator == '/':\n",
        "    if num2 == 0:\n",
        "        print(\"Error\")\n",
        "    else:\n",
        "        result = num1 / num2\n",
        "        print(f\"答案是：{result:.2f}\")\n",
        "else:\n",
        "    print(\"無效的操作符號\")\n"
      ],
      "metadata": {
        "colab": {
          "base_uri": "https://localhost:8080/"
        },
        "id": "hT89ozceQG7z",
        "outputId": "09506360-7637-4321-f3dd-678269a47c40"
      },
      "execution_count": 6,
      "outputs": [
        {
          "output_type": "stream",
          "name": "stdout",
          "text": [
            "請輸入操作符號 (+, -, *, /): +\n",
            "請輸入第一個數字: 5.5\n",
            "請輸入第二個數字: 3.2\n",
            "答案是：8.70\n"
          ]
        }
      ]
    },
    {
      "cell_type": "code",
      "source": [
        "def is_prime(n):\n",
        "    if n <= 1:\n",
        "        return False\n",
        "    for i in range(2, int(n ** 0.5) + 1): #better time complexity\n",
        "        if n % i == 0:\n",
        "            return False\n",
        "    return True\n",
        "\n",
        "num = int(input(\"請輸入一個數字: \"))\n",
        "\n",
        "if is_prime(num):\n",
        "    print(\"Prime\")\n",
        "else:\n",
        "    print(\"Not Prime\")\n",
        "\n",
        "if num % 2 == 0:\n",
        "    print(\"Even\")\n",
        "else:\n",
        "    print(\"Odd\")\n"
      ],
      "metadata": {
        "colab": {
          "base_uri": "https://localhost:8080/"
        },
        "id": "q7SHYJfBRw3o",
        "outputId": "35f6b022-54cb-4f5a-e78b-eb1c908b94e0"
      },
      "execution_count": 8,
      "outputs": [
        {
          "output_type": "stream",
          "name": "stdout",
          "text": [
            "請輸入一個數字: 20\n",
            "Not Prime\n",
            "Even\n"
          ]
        }
      ]
    },
    {
      "cell_type": "code",
      "source": [
        "user_input = input(\"請輸入字串：\")\n",
        "\n",
        "digit_sum = sum(int(char) for char in user_input if char.isdigit())\n",
        "\n",
        "string_length = len(user_input)\n",
        "\n",
        "print(digit_sum, string_length)"
      ],
      "metadata": {
        "colab": {
          "base_uri": "https://localhost:8080/"
        },
        "id": "XQWV8DlTVJ_W",
        "outputId": "b1e08cb3-5a6e-4cc3-bc35-02a363ba09d9"
      },
      "execution_count": 10,
      "outputs": [
        {
          "output_type": "stream",
          "name": "stdout",
          "text": [
            "請輸入字串：programming\n",
            "0 11\n"
          ]
        }
      ]
    }
  ],
  "metadata": {
    "colab": {
      "name": "歡迎使用 Colaboratory",
      "toc_visible": true,
      "provenance": [],
      "include_colab_link": true
    },
    "kernelspec": {
      "display_name": "Python 3",
      "name": "python3"
    }
  },
  "nbformat": 4,
  "nbformat_minor": 0
}