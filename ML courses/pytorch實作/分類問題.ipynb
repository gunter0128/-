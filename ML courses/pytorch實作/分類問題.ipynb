{
 "cells": [
  {
   "cell_type": "code",
   "execution_count": 34,
   "metadata": {},
   "outputs": [
    {
     "data": {
      "text/html": [
       "<div>\n",
       "<style scoped>\n",
       "    .dataframe tbody tr th:only-of-type {\n",
       "        vertical-align: middle;\n",
       "    }\n",
       "\n",
       "    .dataframe tbody tr th {\n",
       "        vertical-align: top;\n",
       "    }\n",
       "\n",
       "    .dataframe thead th {\n",
       "        text-align: right;\n",
       "    }\n",
       "</style>\n",
       "<table border=\"1\" class=\"dataframe\">\n",
       "  <thead>\n",
       "    <tr style=\"text-align: right;\">\n",
       "      <th></th>\n",
       "      <th>Age</th>\n",
       "      <th>Weight</th>\n",
       "      <th>BloodSugar</th>\n",
       "      <th>Gender</th>\n",
       "      <th>Diabetes</th>\n",
       "    </tr>\n",
       "  </thead>\n",
       "  <tbody>\n",
       "    <tr>\n",
       "      <th>0</th>\n",
       "      <td>25</td>\n",
       "      <td>119</td>\n",
       "      <td>130.8</td>\n",
       "      <td>男生</td>\n",
       "      <td>1</td>\n",
       "    </tr>\n",
       "    <tr>\n",
       "      <th>1</th>\n",
       "      <td>66</td>\n",
       "      <td>102</td>\n",
       "      <td>128.1</td>\n",
       "      <td>女生</td>\n",
       "      <td>1</td>\n",
       "    </tr>\n",
       "    <tr>\n",
       "      <th>2</th>\n",
       "      <td>59</td>\n",
       "      <td>65</td>\n",
       "      <td>103.9</td>\n",
       "      <td>男生</td>\n",
       "      <td>0</td>\n",
       "    </tr>\n",
       "    <tr>\n",
       "      <th>3</th>\n",
       "      <td>46</td>\n",
       "      <td>117</td>\n",
       "      <td>94.8</td>\n",
       "      <td>女生</td>\n",
       "      <td>0</td>\n",
       "    </tr>\n",
       "    <tr>\n",
       "      <th>4</th>\n",
       "      <td>45</td>\n",
       "      <td>79</td>\n",
       "      <td>57.8</td>\n",
       "      <td>男生</td>\n",
       "      <td>0</td>\n",
       "    </tr>\n",
       "    <tr>\n",
       "      <th>...</th>\n",
       "      <td>...</td>\n",
       "      <td>...</td>\n",
       "      <td>...</td>\n",
       "      <td>...</td>\n",
       "      <td>...</td>\n",
       "    </tr>\n",
       "    <tr>\n",
       "      <th>395</th>\n",
       "      <td>72</td>\n",
       "      <td>63</td>\n",
       "      <td>97.1</td>\n",
       "      <td>女生</td>\n",
       "      <td>0</td>\n",
       "    </tr>\n",
       "    <tr>\n",
       "      <th>396</th>\n",
       "      <td>22</td>\n",
       "      <td>117</td>\n",
       "      <td>156.7</td>\n",
       "      <td>女生</td>\n",
       "      <td>1</td>\n",
       "    </tr>\n",
       "    <tr>\n",
       "      <th>397</th>\n",
       "      <td>31</td>\n",
       "      <td>76</td>\n",
       "      <td>119.0</td>\n",
       "      <td>男生</td>\n",
       "      <td>0</td>\n",
       "    </tr>\n",
       "    <tr>\n",
       "      <th>398</th>\n",
       "      <td>36</td>\n",
       "      <td>65</td>\n",
       "      <td>96.3</td>\n",
       "      <td>女生</td>\n",
       "      <td>1</td>\n",
       "    </tr>\n",
       "    <tr>\n",
       "      <th>399</th>\n",
       "      <td>38</td>\n",
       "      <td>75</td>\n",
       "      <td>106.3</td>\n",
       "      <td>男生</td>\n",
       "      <td>0</td>\n",
       "    </tr>\n",
       "  </tbody>\n",
       "</table>\n",
       "<p>400 rows × 5 columns</p>\n",
       "</div>"
      ],
      "text/plain": [
       "     Age  Weight  BloodSugar Gender  Diabetes\n",
       "0     25     119       130.8     男生         1\n",
       "1     66     102       128.1     女生         1\n",
       "2     59      65       103.9     男生         0\n",
       "3     46     117        94.8     女生         0\n",
       "4     45      79        57.8     男生         0\n",
       "..   ...     ...         ...    ...       ...\n",
       "395   72      63        97.1     女生         0\n",
       "396   22     117       156.7     女生         1\n",
       "397   31      76       119.0     男生         0\n",
       "398   36      65        96.3     女生         1\n",
       "399   38      75       106.3     男生         0\n",
       "\n",
       "[400 rows x 5 columns]"
      ]
     },
     "execution_count": 34,
     "metadata": {},
     "output_type": "execute_result"
    }
   ],
   "source": [
    "import pandas as pd\n",
    "\n",
    "url = \"https://raw.githubusercontent.com/GrandmaCan/ML/main/Classification/Diabetes_Data.csv\"\n",
    "data = pd.read_csv(url)\n",
    "data"
   ]
  },
  {
   "cell_type": "code",
   "execution_count": 35,
   "metadata": {},
   "outputs": [
    {
     "data": {
      "text/html": [
       "<div>\n",
       "<style scoped>\n",
       "    .dataframe tbody tr th:only-of-type {\n",
       "        vertical-align: middle;\n",
       "    }\n",
       "\n",
       "    .dataframe tbody tr th {\n",
       "        vertical-align: top;\n",
       "    }\n",
       "\n",
       "    .dataframe thead th {\n",
       "        text-align: right;\n",
       "    }\n",
       "</style>\n",
       "<table border=\"1\" class=\"dataframe\">\n",
       "  <thead>\n",
       "    <tr style=\"text-align: right;\">\n",
       "      <th></th>\n",
       "      <th>Age</th>\n",
       "      <th>Weight</th>\n",
       "      <th>BloodSugar</th>\n",
       "      <th>Gender</th>\n",
       "      <th>Diabetes</th>\n",
       "    </tr>\n",
       "  </thead>\n",
       "  <tbody>\n",
       "    <tr>\n",
       "      <th>0</th>\n",
       "      <td>25</td>\n",
       "      <td>119</td>\n",
       "      <td>130.8</td>\n",
       "      <td>1</td>\n",
       "      <td>1</td>\n",
       "    </tr>\n",
       "    <tr>\n",
       "      <th>1</th>\n",
       "      <td>66</td>\n",
       "      <td>102</td>\n",
       "      <td>128.1</td>\n",
       "      <td>0</td>\n",
       "      <td>1</td>\n",
       "    </tr>\n",
       "    <tr>\n",
       "      <th>2</th>\n",
       "      <td>59</td>\n",
       "      <td>65</td>\n",
       "      <td>103.9</td>\n",
       "      <td>1</td>\n",
       "      <td>0</td>\n",
       "    </tr>\n",
       "    <tr>\n",
       "      <th>3</th>\n",
       "      <td>46</td>\n",
       "      <td>117</td>\n",
       "      <td>94.8</td>\n",
       "      <td>0</td>\n",
       "      <td>0</td>\n",
       "    </tr>\n",
       "    <tr>\n",
       "      <th>4</th>\n",
       "      <td>45</td>\n",
       "      <td>79</td>\n",
       "      <td>57.8</td>\n",
       "      <td>1</td>\n",
       "      <td>0</td>\n",
       "    </tr>\n",
       "    <tr>\n",
       "      <th>...</th>\n",
       "      <td>...</td>\n",
       "      <td>...</td>\n",
       "      <td>...</td>\n",
       "      <td>...</td>\n",
       "      <td>...</td>\n",
       "    </tr>\n",
       "    <tr>\n",
       "      <th>395</th>\n",
       "      <td>72</td>\n",
       "      <td>63</td>\n",
       "      <td>97.1</td>\n",
       "      <td>0</td>\n",
       "      <td>0</td>\n",
       "    </tr>\n",
       "    <tr>\n",
       "      <th>396</th>\n",
       "      <td>22</td>\n",
       "      <td>117</td>\n",
       "      <td>156.7</td>\n",
       "      <td>0</td>\n",
       "      <td>1</td>\n",
       "    </tr>\n",
       "    <tr>\n",
       "      <th>397</th>\n",
       "      <td>31</td>\n",
       "      <td>76</td>\n",
       "      <td>119.0</td>\n",
       "      <td>1</td>\n",
       "      <td>0</td>\n",
       "    </tr>\n",
       "    <tr>\n",
       "      <th>398</th>\n",
       "      <td>36</td>\n",
       "      <td>65</td>\n",
       "      <td>96.3</td>\n",
       "      <td>0</td>\n",
       "      <td>1</td>\n",
       "    </tr>\n",
       "    <tr>\n",
       "      <th>399</th>\n",
       "      <td>38</td>\n",
       "      <td>75</td>\n",
       "      <td>106.3</td>\n",
       "      <td>1</td>\n",
       "      <td>0</td>\n",
       "    </tr>\n",
       "  </tbody>\n",
       "</table>\n",
       "<p>400 rows × 5 columns</p>\n",
       "</div>"
      ],
      "text/plain": [
       "     Age  Weight  BloodSugar  Gender  Diabetes\n",
       "0     25     119       130.8       1         1\n",
       "1     66     102       128.1       0         1\n",
       "2     59      65       103.9       1         0\n",
       "3     46     117        94.8       0         0\n",
       "4     45      79        57.8       1         0\n",
       "..   ...     ...         ...     ...       ...\n",
       "395   72      63        97.1       0         0\n",
       "396   22     117       156.7       0         1\n",
       "397   31      76       119.0       1         0\n",
       "398   36      65        96.3       0         1\n",
       "399   38      75       106.3       1         0\n",
       "\n",
       "[400 rows x 5 columns]"
      ]
     },
     "execution_count": 35,
     "metadata": {},
     "output_type": "execute_result"
    }
   ],
   "source": [
    "#label encoding\n",
    "data['Gender'] = data['Gender'].map({'男生':1, '女生':0})\n",
    "data"
   ]
  },
  {
   "cell_type": "code",
   "execution_count": 36,
   "metadata": {},
   "outputs": [],
   "source": [
    "#訓練集和測試集\n",
    "from sklearn.model_selection import train_test_split\n",
    "\n",
    "x = data[['Age','Weight','BloodSugar','Gender']]\n",
    "y = data['Diabetes']\n",
    "\n",
    "x_train, x_test, y_train, y_test = train_test_split(x, y, test_size=0.2, random_state=87)\n",
    "#預設為隨機分割資料 若想要分割的資料集為固定的可加上random_state並指定一數字(自訂)\n",
    "x_train = x_train.to_numpy()\n",
    "x_test = x_test.to_numpy()\n",
    "y_train = y_train.to_numpy()\n",
    "y_test = y_test.to_numpy()\n",
    "#轉換為矩陣型式方便計算"
   ]
  },
  {
   "cell_type": "code",
   "execution_count": 37,
   "metadata": {},
   "outputs": [],
   "source": [
    "#使用標準化((x-x.mean())/標準差)做特徵縮放\n",
    "from sklearn.preprocessing import StandardScaler\n",
    "\n",
    "scaler = StandardScaler()\n",
    "scaler.fit(x_train)#計算標準差\n",
    "x_train = scaler.transform(x_train)\n",
    "x_test = scaler.transform(x_test)\n",
    "#最終明顯加快了gradient descent的速度"
   ]
  },
  {
   "cell_type": "code",
   "execution_count": 38,
   "metadata": {},
   "outputs": [
    {
     "data": {
      "text/plain": [
       "'cpu'"
      ]
     },
     "execution_count": 38,
     "metadata": {},
     "output_type": "execute_result"
    }
   ],
   "source": [
    "import torch\n",
    "device = \"cuda\" if torch.cuda.is_available() else \"cpu\"\n",
    "device"
   ]
  },
  {
   "cell_type": "code",
   "execution_count": 39,
   "metadata": {},
   "outputs": [],
   "source": [
    "from torch import nn\n",
    "\n",
    "class LogisticRegressionModel(nn.Module):\n",
    "    def __init__(self):\n",
    "        super().__init__()\n",
    "        self.linear_layer = nn.Linear(in_features=4, out_features=1, dtype=torch.float64)\n",
    "        self.sigmoid = nn.Sigmoid()\n",
    "        \n",
    "    def forward(self, x):\n",
    "        return self.sigmoid(self.linear_layer(x))"
   ]
  },
  {
   "cell_type": "code",
   "execution_count": 40,
   "metadata": {},
   "outputs": [
    {
     "data": {
      "text/plain": [
       "(LogisticRegressionModel(\n",
       "   (linear_layer): Linear(in_features=4, out_features=1, bias=True)\n",
       "   (sigmoid): Sigmoid()\n",
       " ),\n",
       " OrderedDict([('linear_layer.weight',\n",
       "               tensor([[-0.4710,  0.1380, -0.1459, -0.1397]], dtype=torch.float64)),\n",
       "              ('linear_layer.bias', tensor([-0.4544], dtype=torch.float64))]))"
      ]
     },
     "execution_count": 40,
     "metadata": {},
     "output_type": "execute_result"
    }
   ],
   "source": [
    "torch.manual_seed(87)\n",
    "model = LogisticRegressionModel()\n",
    "model, model.state_dict()"
   ]
  },
  {
   "cell_type": "code",
   "execution_count": 41,
   "metadata": {},
   "outputs": [],
   "source": [
    "x_train = torch.from_numpy(x_train)\n",
    "x_test = torch.from_numpy(x_test)\n",
    "y_train = torch.from_numpy(y_train)\n",
    "y_test = torch.from_numpy(y_test)"
   ]
  },
  {
   "cell_type": "code",
   "execution_count": 42,
   "metadata": {},
   "outputs": [
    {
     "data": {
      "text/plain": [
       "tensor([[-0.1305, -0.1202,  0.3527,  0.9393],\n",
       "        [-0.4920, -0.0774, -0.6135,  0.9393],\n",
       "        [-1.2753, -0.2916, -0.3567, -1.0646],\n",
       "        ...,\n",
       "        [-0.3113, -1.1912,  0.7662,  0.9393],\n",
       "        [-0.4318, -1.4483, -1.5187,  0.9393],\n",
       "        [ 1.1951,  0.8651, -0.3306, -1.0646]], dtype=torch.float64)"
      ]
     },
     "execution_count": 42,
     "metadata": {},
     "output_type": "execute_result"
    }
   ],
   "source": [
    "x_train = x_train.to(device)\n",
    "x_test = x_test.to(device)\n",
    "y_train = y_train.to(device)\n",
    "y_test = y_test.to(device)\n",
    "\n",
    "x_train"
   ]
  },
  {
   "cell_type": "code",
   "execution_count": null,
   "metadata": {},
   "outputs": [],
   "source": [
    "model(x_train)"
   ]
  },
  {
   "cell_type": "code",
   "execution_count": 44,
   "metadata": {},
   "outputs": [],
   "source": [
    "y_train = y_train.reshape(-1,1)\n",
    "y_test = y_test.reshape(-1, 1)\n",
    "y_train = y_train.type(torch.double)\n",
    "y_test = y_test.type(torch.double)"
   ]
  },
  {
   "cell_type": "code",
   "execution_count": 45,
   "metadata": {},
   "outputs": [
    {
     "name": "stdout",
     "output_type": "stream",
     "text": [
      "OrderedDict([('linear_layer.weight', tensor([[-0.4710,  0.1380, -0.1459, -0.1397]], dtype=torch.float64)), ('linear_layer.bias', tensor([-0.4544], dtype=torch.float64))])\n",
      "tensor(0.7056, dtype=torch.float64, grad_fn=<BinaryCrossEntropyBackward0>)\n",
      "OrderedDict([('linear_layer.weight', tensor([[-0.4697,  0.1394, -0.1422, -0.1394]], dtype=torch.float64)), ('linear_layer.bias', tensor([-0.4552], dtype=torch.float64))])\n",
      "tensor(0.7056, dtype=torch.float64, grad_fn=<BinaryCrossEntropyBackward0>)\n"
     ]
    }
   ],
   "source": [
    "cost_fn = nn.BCELoss()\n",
    "y_pred = model(x_train)\n",
    "cost = cost_fn(y_pred, y_train)\n",
    "print(model.state_dict())\n",
    "print(cost)\n",
    "\n",
    "optimizer = torch.optim.SGD(params=model.parameters(), lr=0.01)\n",
    "optimizer.zero_grad()\n",
    "cost.backward()\n",
    "optimizer.step()\n",
    "print(model.state_dict())\n",
    "print(cost)"
   ]
  },
  {
   "cell_type": "code",
   "execution_count": 46,
   "metadata": {},
   "outputs": [
    {
     "name": "stdout",
     "output_type": "stream",
     "text": [
      "Epoch:     0,  Train_Acc: 54.6875%, Test_Acc: 51.25%\n",
      "Epoch:  1000,  Train_Acc: 88.4375%, Test_Acc: 85.0%\n",
      "Epoch:  2000,  Train_Acc: 88.75%, Test_Acc: 85.0%\n",
      "Epoch:  3000,  Train_Acc: 90.0%, Test_Acc: 85.0%\n",
      "Epoch:  4000,  Train_Acc: 89.6875%, Test_Acc: 85.0%\n",
      "Epoch:  5000,  Train_Acc: 89.6875%, Test_Acc: 86.25%\n",
      "Epoch:  6000,  Train_Acc: 89.6875%, Test_Acc: 88.75%\n",
      "Epoch:  7000,  Train_Acc: 89.6875%, Test_Acc: 88.75%\n",
      "Epoch:  8000,  Train_Acc: 89.375%, Test_Acc: 88.75%\n",
      "Epoch:  9000,  Train_Acc: 89.375%, Test_Acc: 90.0%\n"
     ]
    }
   ],
   "source": [
    "epochs = 10000\n",
    "\n",
    "train_cost_hist = []\n",
    "test_cost_hist = []\n",
    "train_acc_hist = []#現在是分類問題 因此多一個hist來記錄在訓練資料的預測準確率\n",
    "test_acc_hist = []#現在是分類問題 因此多一個hist來記錄在測試資料的預測準確率\n",
    "\n",
    "for epoch in range(epochs):\n",
    "    model.train()#現在是訓練階段\n",
    "    y_pred = model(x_train)\n",
    "    train_cost = cost_fn(y_pred, y_train)\n",
    "    train_cost_hist.append(train_cost.detach().numpy())#detach()將有追蹤梯度的張量轉換成沒有追蹤梯度的張量(用於繪圖)\n",
    "    \n",
    "    train_acc = (torch.round(y_pred)==y_train).sum() / len(y_train) *100\n",
    "    train_acc_hist.append(train_acc.detach().numpy())\n",
    "    \n",
    "    optimizer.zero_grad()\n",
    "    train_cost.backward()\n",
    "    optimizer.step()\n",
    "    \n",
    "    model.eval()#現在是測試階段\n",
    "    with torch.inference_mode():#測試階段程式碼不需要追蹤梯度以提升運算速度\n",
    "        test_pred = model(x_test)\n",
    "        test_cost = cost_fn(test_pred, y_test)\n",
    "        test_cost_hist.append(test_cost.detach().numpy())#detach()將有追蹤梯度的張量轉換成沒有追蹤梯度的張量(用於繪圖)\n",
    "        \n",
    "        test_acc = (torch.round(test_pred)==y_test).sum() / len(y_test) *100\n",
    "        test_acc_hist.append(test_acc.detach().numpy())\n",
    "    \n",
    "    if epoch%1000==0:\n",
    "        #print(f'Epoch: {epoch:5},  Train_Cost: {train_cost: .4e}, Test_Cost: {test_cost: .4e}')\n",
    "        print(f'Epoch: {epoch:5},  Train_Acc: {train_acc}%, Test_Acc: {test_acc}%')"
   ]
  },
  {
   "cell_type": "code",
   "execution_count": 47,
   "metadata": {},
   "outputs": [
    {
     "data": {
      "image/png": "[encoded data removed]",
      "text/plain": [
       "<Figure size 640x480 with 1 Axes>"
      ]
     },
     "metadata": {},
     "output_type": "display_data"
    }
   ],
   "source": [
    "#繪製訓練集和測試集cost下降情形\n",
    "import matplotlib.pyplot as plt\n",
    "plt.plot(range(0,10000), train_cost_hist, label='train cost')\n",
    "plt.plot(range(0,10000), test_cost_hist, label='test cost')\n",
    "plt.title('train & test cost')\n",
    "plt.xlabel('epoch')\n",
    "plt.ylabel('cost')\n",
    "plt.legend()\n",
    "plt.show()"
   ]
  },
  {
   "cell_type": "code",
   "execution_count": 48,
   "metadata": {},
   "outputs": [
    {
     "data": {
      "image/png": "[encoded data removed]",
      "text/plain": [
       "<Figure size 640x480 with 1 Axes>"
      ]
     },
     "metadata": {},
     "output_type": "display_data"
    }
   ],
   "source": [
    "#繪製訓練集和測試集cost下降情形\n",
    "import matplotlib.pyplot as plt\n",
    "plt.plot(range(0,10000), train_acc_hist, label='train acc')\n",
    "plt.plot(range(0,10000), test_acc_hist, label='test acc')\n",
    "plt.title('train & test cost')\n",
    "plt.xlabel('epoch')\n",
    "plt.ylabel('cost')\n",
    "plt.legend()\n",
    "plt.show()"
   ]
  },
  {
   "cell_type": "code",
   "execution_count": 54,
   "metadata": {},
   "outputs": [
    {
     "data": {
      "text/plain": [
       "OrderedDict([('linear_layer.weight',\n",
       "              tensor([[-0.1825, -0.1210,  3.6459, -0.0998]], dtype=torch.float64)),\n",
       "             ('linear_layer.bias', tensor([-1.8236], dtype=torch.float64))])"
      ]
     },
     "execution_count": 54,
     "metadata": {},
     "output_type": "execute_result"
    }
   ],
   "source": [
    "model.state_dict()"
   ]
  },
  {
   "cell_type": "code",
   "execution_count": 53,
   "metadata": {},
   "outputs": [
    {
     "data": {
      "text/plain": [
       "tensor(90.)"
      ]
     },
     "execution_count": 53,
     "metadata": {},
     "output_type": "execute_result"
    }
   ],
   "source": [
    "model.eval()\n",
    "with torch.inference_mode():\n",
    "    y_pred = model(x_test)\n",
    "(torch.round(y_pred)==y_test).sum()/len(y_test)*100"
   ]
  }
 ],
 "metadata": {
  "kernelspec": {
   "display_name": "Python 3",
   "language": "python",
   "name": "python3"
  },
  "language_info": {
   "codemirror_mode": {
    "name": "ipython",
    "version": 3
   },
   "file_extension": ".py",
   "mimetype": "text/x-python",
   "name": "python",
   "nbconvert_exporter": "python",
   "pygments_lexer": "ipython3",
   "version": "3.10.4"
  }
 },
 "nbformat": 4,
 "nbformat_minor": 2
}
