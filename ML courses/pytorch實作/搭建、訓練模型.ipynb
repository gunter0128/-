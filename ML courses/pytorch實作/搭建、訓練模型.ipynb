{
 "cells": [
  {
   "cell_type": "code",
   "execution_count": 2,
   "metadata": {},
   "outputs": [],
   "source": [
    "import pandas as pd\n",
    "\n",
    "url = 'https://raw.githubusercontent.com/GrandmaCan/ML/main/Resgression/Salary_Data.csv'\n",
    "data = pd.read_csv(url)\n",
    "\n",
    "x = data['YearsExperience']\n",
    "y = data['Salary']"
   ]
  },
  {
   "cell_type": "code",
   "execution_count": 3,
   "metadata": {},
   "outputs": [],
   "source": [
    "#訓練集和測試集\n",
    "from sklearn.model_selection import train_test_split\n",
    "import torch\n",
    "\n",
    "#預設為隨機分割資料 若想要分割的資料集為固定的可加上random_state並指定一數字(自訂)\n",
    "x_train, x_test, y_train, y_test = train_test_split(x, y, test_size=0.2, random_state=87)\n",
    "\n",
    "#轉換為矩陣型式方便計算\n",
    "x_train = x_train.to_numpy()\n",
    "x_test = x_test.to_numpy()\n",
    "y_train = y_train.to_numpy()\n",
    "y_test = y_test.to_numpy()\n",
    "\n",
    "#使用torch工具需先將資料轉換為張量\n",
    "x_train = torch.from_numpy(x_train)\n",
    "x_test = torch.from_numpy(x_test)\n",
    "y_train = torch.from_numpy(y_train)\n",
    "y_test = torch.from_numpy(y_test)"
   ]
  },
  {
   "cell_type": "code",
   "execution_count": 4,
   "metadata": {},
   "outputs": [],
   "source": [
    "from torch import nn\n",
    "\n",
    "class LinearRegressionModel(nn.Module):#定義一個類別 並繼承nn\n",
    "    def __init__(self):#初始化 代表當前類別的實例\n",
    "        super().__init__()#調用父類別的構造函數\n",
    "        self.w = nn.Parameter(torch.rand(1, requires_grad=True))\n",
    "        self.b = nn.Parameter(torch.rand(1, requires_grad=True))\n",
    "        #定義了模型的權重 w 和偏置 b，並將它們初始化為隨機值。這裡使用了 nn.Parameter 封裝，表明這些參數需要進行梯度計算（即它們是需要訓練的參數）。\n",
    "    \n",
    "    def forward(self, x):#定義模型的前向傳播計算 即模型的訓練\n",
    "        return self.w*x + self.b"
   ]
  },
  {
   "cell_type": "code",
   "execution_count": 5,
   "metadata": {},
   "outputs": [
    {
     "data": {
      "text/plain": [
       "OrderedDict([('w', tensor([0.0036])), ('b', tensor([0.8931]))])"
      ]
     },
     "execution_count": 5,
     "metadata": {},
     "output_type": "execute_result"
    }
   ],
   "source": [
    "torch.manual_seed(87)\n",
    "model = LinearRegressionModel()\n",
    "model.state_dict()"
   ]
  },
  {
   "cell_type": "code",
   "execution_count": 6,
   "metadata": {},
   "outputs": [
    {
     "data": {
      "text/plain": [
       "tensor([0.9149, 0.9312, 0.8953, 0.9145, 0.9279, 0.9065, 0.8978],\n",
       "       dtype=torch.float64, grad_fn=<AddBackward0>)"
      ]
     },
     "execution_count": 6,
     "metadata": {},
     "output_type": "execute_result"
    }
   ],
   "source": [
    "model(x_test)"
   ]
  },
  {
   "cell_type": "code",
   "execution_count": 7,
   "metadata": {},
   "outputs": [
    {
     "name": "stdout",
     "output_type": "stream",
     "text": [
      "OrderedDict([('w', tensor([0.0036])), ('b', tensor([0.8931]))])\n",
      "tensor(5627.4383, dtype=torch.float64, grad_fn=<MseLossBackward0>)\n",
      "OrderedDict([('w', tensor([8.1354])), ('b', tensor([2.2939]))])\n",
      "tensor(944.6858, dtype=torch.float64, grad_fn=<MseLossBackward0>)\n"
     ]
    }
   ],
   "source": [
    "#使用內建的cost function函式(距離平方差)\n",
    "cost_fn = nn.MSELoss()\n",
    "y_pred = model(x_train)\n",
    "cost = cost_fn(y_pred, y_train)\n",
    "print(model.state_dict())\n",
    "print(cost)\n",
    "\n",
    "#設定optimizer(Stochastic gradient descent)\n",
    "optimizer = torch.optim.SGD(params = model.parameters(), lr=0.01)\n",
    "optimizer.zero_grad()#下行中每次計算之梯度(斜率)都會進行疊加 因此要歸零\n",
    "cost.backward()#針對cost function進行微分 得知w,b的斜率\n",
    "optimizer.step()#更新參數\n",
    "y_pred = model(x_train)\n",
    "cost = cost_fn(y_pred, y_train)\n",
    "print(model.state_dict())\n",
    "print(cost)"
   ]
  },
  {
   "cell_type": "code",
   "execution_count": 8,
   "metadata": {},
   "outputs": [
    {
     "name": "stdout",
     "output_type": "stream",
     "text": [
      "Epoch:     0,  Train_Cost:  9.4469e+02, Test_Cost:  3.5138e+02\n",
      "Epoch:  1000,  Train_Cost:  3.2599e+01, Test_Cost:  3.4706e+01\n",
      "Epoch:  2000,  Train_Cost:  3.2594e+01, Test_Cost:  3.4187e+01\n",
      "Epoch:  3000,  Train_Cost:  3.2594e+01, Test_Cost:  3.4185e+01\n",
      "Epoch:  4000,  Train_Cost:  3.2594e+01, Test_Cost:  3.4185e+01\n",
      "Epoch:  5000,  Train_Cost:  3.2594e+01, Test_Cost:  3.4185e+01\n",
      "Epoch:  6000,  Train_Cost:  3.2594e+01, Test_Cost:  3.4185e+01\n",
      "Epoch:  7000,  Train_Cost:  3.2594e+01, Test_Cost:  3.4185e+01\n",
      "Epoch:  8000,  Train_Cost:  3.2594e+01, Test_Cost:  3.4185e+01\n",
      "Epoch:  9000,  Train_Cost:  3.2594e+01, Test_Cost:  3.4185e+01\n"
     ]
    }
   ],
   "source": [
    "epochs = 10000\n",
    "\n",
    "train_cost_hist = []\n",
    "test_cost_hist = []\n",
    "\n",
    "for epoch in range(epochs):\n",
    "    model.train()#現在是訓練階段\n",
    "    y_pred = model(x_train)\n",
    "    train_cost = cost_fn(y_pred, y_train)\n",
    "    train_cost_hist.append(train_cost.detach().numpy())#detach()將有追蹤梯度的張量轉換成沒有追蹤梯度的張量(用於繪圖)\n",
    "    optimizer.zero_grad()\n",
    "    train_cost.backward()\n",
    "    optimizer.step()\n",
    "    \n",
    "    model.eval()#現在是測試階段\n",
    "    with torch.inference_mode():#測試階段程式碼不需要追蹤梯度以提升運算速度\n",
    "        test_pred = model(x_test)\n",
    "        test_cost = cost_fn(test_pred, y_test)\n",
    "        test_cost_hist.append(test_cost.detach().numpy())#detach()將有追蹤梯度的張量轉換成沒有追蹤梯度的張量(用於繪圖)\n",
    "    \n",
    "    if epoch%1000==0:\n",
    "        print(f'Epoch: {epoch:5},  Train_Cost: {train_cost: .4e}, Test_Cost: {test_cost: .4e}')"
   ]
  },
  {
   "cell_type": "code",
   "execution_count": 9,
   "metadata": {},
   "outputs": [
    {
     "data": {
      "image/png": "[encoded data removed]",
      "text/plain": [
       "<Figure size 640x480 with 1 Axes>"
      ]
     },
     "metadata": {},
     "output_type": "display_data"
    }
   ],
   "source": [
    "#繪製訓練集和測試集cost下降情形\n",
    "import matplotlib.pyplot as plt\n",
    "plt.plot(range(0,10000), train_cost_hist, label='train cost')\n",
    "plt.plot(range(0,10000), test_cost_hist, label='test cost')\n",
    "plt.title('train & test cost')\n",
    "plt.xlabel('epoch')\n",
    "plt.ylabel('cost')\n",
    "plt.legend()\n",
    "plt.show()"
   ]
  },
  {
   "cell_type": "code",
   "execution_count": 10,
   "metadata": {},
   "outputs": [
    {
     "data": {
      "text/plain": [
       "(Parameter containing:\n",
       " tensor([9.3308], requires_grad=True),\n",
       " Parameter containing:\n",
       " tensor([26.6287], requires_grad=True))"
      ]
     },
     "execution_count": 10,
     "metadata": {},
     "output_type": "execute_result"
    }
   ],
   "source": [
    "model.w, model.b"
   ]
  },
  {
   "cell_type": "code",
   "execution_count": 11,
   "metadata": {},
   "outputs": [
    {
     "data": {
      "text/plain": [
       "(tensor([ 82.6135, 124.6020,  32.2271,  81.6804, 116.2043,  61.1526,  38.7587],\n",
       "        dtype=torch.float64),\n",
       " tensor([ 93.9000, 121.8000,  36.6000,  81.3000, 112.6000,  57.1000,  46.2000],\n",
       "        dtype=torch.float64))"
      ]
     },
     "execution_count": 11,
     "metadata": {},
     "output_type": "execute_result"
    }
   ],
   "source": [
    "model.eval()\n",
    "with torch.inference_mode():\n",
    "    y_pred = model(x_test)\n",
    "\n",
    "y_pred, y_test"
   ]
  },
  {
   "cell_type": "code",
   "execution_count": 12,
   "metadata": {},
   "outputs": [],
   "source": [
    "#儲存模型至資料夾以便後續直接使用\n",
    "model.state_dict()\n",
    "torch.save(obj=model.state_dict(), f='model/pytorch_linear_regression.pth')"
   ]
  },
  {
   "cell_type": "code",
   "execution_count": 17,
   "metadata": {},
   "outputs": [
    {
     "data": {
      "text/plain": [
       "OrderedDict([('w', tensor([0.5443])), ('b', tensor([0.1487]))])"
      ]
     },
     "execution_count": 17,
     "metadata": {},
     "output_type": "execute_result"
    }
   ],
   "source": [
    "#再創建一個模型(值為隨機)\n",
    "model_1 = LinearRegressionModel()\n",
    "model_1.state_dict()"
   ]
  },
  {
   "cell_type": "code",
   "execution_count": 15,
   "metadata": {},
   "outputs": [
    {
     "data": {
      "text/plain": [
       "OrderedDict([('w', tensor([9.3308])), ('b', tensor([26.6287]))])"
      ]
     },
     "execution_count": 15,
     "metadata": {},
     "output_type": "execute_result"
    }
   ],
   "source": [
    "#載入固定使用以訓練好的模型(值為固定)\n",
    "model_1.load_state_dict(torch.load(f='model/pytorch_linear_regression.pth'))\n",
    "model_1.state_dict()"
   ]
  },
  {
   "cell_type": "code",
   "execution_count": 16,
   "metadata": {},
   "outputs": [
    {
     "data": {
      "text/plain": [
       "(tensor([ 82.6135, 124.6020,  32.2271,  81.6804, 116.2043,  61.1526,  38.7587],\n",
       "        dtype=torch.float64),\n",
       " tensor([ 93.9000, 121.8000,  36.6000,  81.3000, 112.6000,  57.1000,  46.2000],\n",
       "        dtype=torch.float64))"
      ]
     },
     "execution_count": 16,
     "metadata": {},
     "output_type": "execute_result"
    }
   ],
   "source": [
    "model.eval()\n",
    "with torch.inference_mode():\n",
    "    y_pred = model_1(x_test)\n",
    "\n",
    "y_pred, y_test"
   ]
  },
  {
   "cell_type": "code",
   "execution_count": 77,
   "metadata": {},
   "outputs": [],
   "source": [
    "#不自訂參數 而是使用pytorch支援的工具自動創建\n",
    "class LinearRegressionModel2(nn.Module):#定義一個類別 並繼承nn\n",
    "    def __init__(self):#初始化 代表當前類別的實例\n",
    "        super().__init__()#調用父類別的構造函數\n",
    "        self.linear_layer = nn.Linear(in_features=1, out_features=1, dtype=torch.float64)#創建線性層\n",
    "\n",
    "    \n",
    "    def forward(self, x):#定義模型的前向傳播計算 即模型的訓練\n",
    "        return self.linear_layer(x)"
   ]
  },
  {
   "cell_type": "code",
   "execution_count": 78,
   "metadata": {},
   "outputs": [
    {
     "data": {
      "text/plain": [
       "(LinearRegressionModel2(\n",
       "   (linear_layer): Linear(in_features=1, out_features=1, bias=True)\n",
       " ),\n",
       " OrderedDict([('linear_layer.weight',\n",
       "               tensor([[-0.9419]], dtype=torch.float64)),\n",
       "              ('linear_layer.bias', tensor([0.2761], dtype=torch.float64))]))"
      ]
     },
     "execution_count": 78,
     "metadata": {},
     "output_type": "execute_result"
    }
   ],
   "source": [
    "torch.manual_seed(87)\n",
    "model_2 = LinearRegressionModel2()\n",
    "model_2, model_2.state_dict()#參數的數量會隨著上方的設定更改"
   ]
  },
  {
   "cell_type": "code",
   "execution_count": 84,
   "metadata": {},
   "outputs": [],
   "source": [
    "x_train = x_train.reshape(-1,1)#-1表示不管 只在乎要轉變為?*1\n",
    "y_train = y_train.reshape(-1,1)\n",
    "x_test = x_test.reshape(-1,1)\n",
    "y_test = y_test.reshape(-1,1)"
   ]
  },
  {
   "cell_type": "code",
   "execution_count": 85,
   "metadata": {},
   "outputs": [
    {
     "name": "stdout",
     "output_type": "stream",
     "text": [
      "OrderedDict([('linear_layer.weight', tensor([[12.0841]], dtype=torch.float64)), ('linear_layer.bias', tensor([2.9273], dtype=torch.float64))])\n",
      "tensor(205.5102, dtype=torch.float64, grad_fn=<MseLossBackward0>)\n",
      "OrderedDict([('linear_layer.weight', tensor([[12.6570]], dtype=torch.float64)), ('linear_layer.bias', tensor([3.1398], dtype=torch.float64))])\n",
      "tensor(179.3835, dtype=torch.float64, grad_fn=<MseLossBackward0>)\n"
     ]
    }
   ],
   "source": [
    "#使用內建的cost function函式(距離平方差)\n",
    "cost_fn = nn.MSELoss()\n",
    "y_train = y_train.double()\n",
    "y_pred = model_2(x_train)\n",
    "cost = cost_fn(y_pred, y_train)\n",
    "print(model_2.state_dict())\n",
    "print(cost)\n",
    "\n",
    "#設定optimizer(Stochastic gradient descent)\n",
    "optimizer = torch.optim.SGD(params = model_2.parameters(), lr=0.01)\n",
    "optimizer.zero_grad()#下行中每次計算之梯度(斜率)都會進行疊加 因此要歸零\n",
    "cost.backward()#針對cost function進行微分 得知w,b的斜率\n",
    "optimizer.step()#更新參數\n",
    "\n",
    "y_pred = model_2(x_train)\n",
    "cost = cost_fn(y_pred, y_train)\n",
    "print(model_2.state_dict())\n",
    "print(cost)"
   ]
  },
  {
   "cell_type": "code",
   "execution_count": 76,
   "metadata": {},
   "outputs": [
    {
     "data": {
      "text/plain": [
       "(torch.float64, torch.float64)"
      ]
     },
     "execution_count": 76,
     "metadata": {},
     "output_type": "execute_result"
    }
   ],
   "source": [
    "qq = x_train.reshape(26,1)#x_train(1*26)要跟w(1*1)相乘要變形\n",
    "#qq = qq.type(torch.float32)#兩個矩陣相乘需要一樣的資料型態\n",
    "#x_train.dtype, model_2.linear_layer.weight.dtype\n",
    "model_2(qq) \n",
    "qq.dtype, model_2.linear_layer.weight.dtype"
   ]
  },
  {
   "cell_type": "code",
   "execution_count": 86,
   "metadata": {},
   "outputs": [
    {
     "name": "stdout",
     "output_type": "stream",
     "text": [
      "Epoch:     0,  Train_Cost:  1.7938e+02, Test_Cost:  2.9117e+02\n",
      "Epoch:  1000,  Train_Cost:  3.2599e+01, Test_Cost:  3.4703e+01\n",
      "Epoch:  2000,  Train_Cost:  3.2594e+01, Test_Cost:  3.4187e+01\n",
      "Epoch:  3000,  Train_Cost:  3.2594e+01, Test_Cost:  3.4184e+01\n",
      "Epoch:  4000,  Train_Cost:  3.2594e+01, Test_Cost:  3.4184e+01\n",
      "Epoch:  5000,  Train_Cost:  3.2594e+01, Test_Cost:  3.4184e+01\n",
      "Epoch:  6000,  Train_Cost:  3.2594e+01, Test_Cost:  3.4184e+01\n",
      "Epoch:  7000,  Train_Cost:  3.2594e+01, Test_Cost:  3.4184e+01\n",
      "Epoch:  8000,  Train_Cost:  3.2594e+01, Test_Cost:  3.4184e+01\n",
      "Epoch:  9000,  Train_Cost:  3.2594e+01, Test_Cost:  3.4184e+01\n"
     ]
    }
   ],
   "source": [
    "epochs = 10000\n",
    "\n",
    "train_cost_hist = []\n",
    "test_cost_hist = []\n",
    "\n",
    "for epoch in range(epochs):\n",
    "    model_2.train()#現在是訓練階段\n",
    "    y_pred = model_2(x_train)\n",
    "    train_cost = cost_fn(y_pred, y_train)\n",
    "    train_cost_hist.append(train_cost.detach().numpy())#detach()將有追蹤梯度的張量轉換成沒有追蹤梯度的張量(用於繪圖)\n",
    "    optimizer.zero_grad()\n",
    "    train_cost.backward()\n",
    "    optimizer.step()\n",
    "    \n",
    "    model_2.eval()#現在是測試階段\n",
    "    with torch.inference_mode():#測試階段程式碼不需要追蹤梯度以提升運算速度\n",
    "        test_pred = model_2(x_test)\n",
    "        test_cost = cost_fn(test_pred, y_test)\n",
    "        test_cost_hist.append(test_cost.detach().numpy())#detach()將有追蹤梯度的張量轉換成沒有追蹤梯度的張量(用於繪圖)\n",
    "    \n",
    "    if epoch%1000==0:\n",
    "        print(f'Epoch: {epoch:5},  Train_Cost: {train_cost: .4e}, Test_Cost: {test_cost: .4e}')"
   ]
  },
  {
   "cell_type": "code",
   "execution_count": 87,
   "metadata": {},
   "outputs": [
    {
     "data": {
      "text/plain": [
       "OrderedDict([('linear_layer.weight', tensor([[9.3308]], dtype=torch.float64)),\n",
       "             ('linear_layer.bias', tensor([26.6288], dtype=torch.float64))])"
      ]
     },
     "execution_count": 87,
     "metadata": {},
     "output_type": "execute_result"
    }
   ],
   "source": [
    "model_2.state_dict()"
   ]
  }
 ],
 "metadata": {
  "kernelspec": {
   "display_name": "Python 3",
   "language": "python",
   "name": "python3"
  },
  "language_info": {
   "codemirror_mode": {
    "name": "ipython",
    "version": 3
   },
   "file_extension": ".py",
   "mimetype": "text/x-python",
   "name": "python",
   "nbconvert_exporter": "python",
   "pygments_lexer": "ipython3",
   "version": "3.10.4"
  }
 },
 "nbformat": 4,
 "nbformat_minor": 2
}
